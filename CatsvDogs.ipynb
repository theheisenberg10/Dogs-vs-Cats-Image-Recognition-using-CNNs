{
 "cells": [
  {
   "cell_type": "code",
   "execution_count": 2,
   "id": "6be3131d",
   "metadata": {},
   "outputs": [],
   "source": [
    "from matplotlib import pyplot as plt\n",
    "import numpy as np\n",
    "import pandas as pd\n",
    "np.random.seed(13)\n",
    "import tensorflow as tf\n",
    "from tensorflow.keras import backend as K\n",
    "from tensorflow.keras.models import Sequential\n",
    "from tensorflow.keras.layers import Dense, Activation, Convolution2D, MaxPooling2D, Flatten\n",
    "from tensorflow.keras.utils import to_categorical\n",
    "from tensorflow.keras.utils import plot_model\n",
    "from tensorflow.keras.preprocessing import sequence\n",
    "import os\n",
    "import cv2\n",
    "from skimage.transform import *\n",
    "from skimage.color import *"
   ]
  },
  {
   "cell_type": "code",
   "execution_count": 31,
   "id": "4b17b02d",
   "metadata": {},
   "outputs": [],
   "source": [
    "FILE_PATH = 'C://Users//yashb//Documents//Predictive//HW4//train//train'\n",
    "images = []\n",
    "ids = []\n",
    "mappings = dict()\n",
    "count = 0\n",
    "n = 100\n",
    "# parse through all files in the directory\n",
    "for dirpath, dirs, files in os.walk(FILE_PATH):\n",
    "    for filename in files:\n",
    "        #if count == n:\n",
    "            #break\n",
    "        img_path = dirpath+'/'+filename\n",
    "        img = cv2.imread(img_path)\n",
    "        img = resize(img, (128, 128))\n",
    "        #ids.append(filename)\n",
    "        #images.append(img)\n",
    "        mappings[filename] = img\n",
    "        count += 1 "
   ]
  },
  {
   "cell_type": "code",
   "execution_count": 32,
   "id": "ea3811ed",
   "metadata": {},
   "outputs": [
    {
     "data": {
      "text/html": [
       "<div>\n",
       "<style scoped>\n",
       "    .dataframe tbody tr th:only-of-type {\n",
       "        vertical-align: middle;\n",
       "    }\n",
       "\n",
       "    .dataframe tbody tr th {\n",
       "        vertical-align: top;\n",
       "    }\n",
       "\n",
       "    .dataframe thead th {\n",
       "        text-align: right;\n",
       "    }\n",
       "</style>\n",
       "<table border=\"1\" class=\"dataframe\">\n",
       "  <thead>\n",
       "    <tr style=\"text-align: right;\">\n",
       "      <th></th>\n",
       "      <th>file</th>\n",
       "      <th>img</th>\n",
       "    </tr>\n",
       "  </thead>\n",
       "  <tbody>\n",
       "    <tr>\n",
       "      <th>0</th>\n",
       "      <td>cat.0.jpg</td>\n",
       "      <td>[[[0.3429534313725487, 0.6449142156862742, 0.7...</td>\n",
       "    </tr>\n",
       "    <tr>\n",
       "      <th>1</th>\n",
       "      <td>cat.1.jpg</td>\n",
       "      <td>[[[0.1568627450980392, 0.17022058823529368, 0....</td>\n",
       "    </tr>\n",
       "    <tr>\n",
       "      <th>2</th>\n",
       "      <td>cat.10.jpg</td>\n",
       "      <td>[[[0.16253578335630964, 0.12828075932521243, 0...</td>\n",
       "    </tr>\n",
       "    <tr>\n",
       "      <th>3</th>\n",
       "      <td>cat.100.jpg</td>\n",
       "      <td>[[[0.8492187499999995, 0.8688265931372545, 0.8...</td>\n",
       "    </tr>\n",
       "    <tr>\n",
       "      <th>4</th>\n",
       "      <td>cat.1000.jpg</td>\n",
       "      <td>[[[0.29285852768841913, 0.43795656690410545, 0...</td>\n",
       "    </tr>\n",
       "    <tr>\n",
       "      <th>...</th>\n",
       "      <td>...</td>\n",
       "      <td>...</td>\n",
       "    </tr>\n",
       "    <tr>\n",
       "      <th>24995</th>\n",
       "      <td>dog.9995.jpg</td>\n",
       "      <td>[[[0.4156862745098039, 0.5607843137254902, 0.5...</td>\n",
       "    </tr>\n",
       "    <tr>\n",
       "      <th>24996</th>\n",
       "      <td>dog.9996.jpg</td>\n",
       "      <td>[[[0.2921782848881723, 0.4076758291207093, 0.5...</td>\n",
       "    </tr>\n",
       "    <tr>\n",
       "      <th>24997</th>\n",
       "      <td>dog.9997.jpg</td>\n",
       "      <td>[[[0.1590992647058827, 0.17086397058823563, 0....</td>\n",
       "    </tr>\n",
       "    <tr>\n",
       "      <th>24998</th>\n",
       "      <td>dog.9998.jpg</td>\n",
       "      <td>[[[0.9860753676470593, 0.9921568627450981, 0.9...</td>\n",
       "    </tr>\n",
       "    <tr>\n",
       "      <th>24999</th>\n",
       "      <td>dog.9999.jpg</td>\n",
       "      <td>[[[0.8957299325980391, 0.934945618872549, 0.96...</td>\n",
       "    </tr>\n",
       "  </tbody>\n",
       "</table>\n",
       "<p>25000 rows × 2 columns</p>\n",
       "</div>"
      ],
      "text/plain": [
       "               file                                                img\n",
       "0         cat.0.jpg  [[[0.3429534313725487, 0.6449142156862742, 0.7...\n",
       "1         cat.1.jpg  [[[0.1568627450980392, 0.17022058823529368, 0....\n",
       "2        cat.10.jpg  [[[0.16253578335630964, 0.12828075932521243, 0...\n",
       "3       cat.100.jpg  [[[0.8492187499999995, 0.8688265931372545, 0.8...\n",
       "4      cat.1000.jpg  [[[0.29285852768841913, 0.43795656690410545, 0...\n",
       "...             ...                                                ...\n",
       "24995  dog.9995.jpg  [[[0.4156862745098039, 0.5607843137254902, 0.5...\n",
       "24996  dog.9996.jpg  [[[0.2921782848881723, 0.4076758291207093, 0.5...\n",
       "24997  dog.9997.jpg  [[[0.1590992647058827, 0.17086397058823563, 0....\n",
       "24998  dog.9998.jpg  [[[0.9860753676470593, 0.9921568627450981, 0.9...\n",
       "24999  dog.9999.jpg  [[[0.8957299325980391, 0.934945618872549, 0.96...\n",
       "\n",
       "[25000 rows x 2 columns]"
      ]
     },
     "execution_count": 32,
     "metadata": {},
     "output_type": "execute_result"
    }
   ],
   "source": [
    "image_data = pd.DataFrame(mappings.items(), columns = ['file','img'])\n",
    "image_data"
   ]
  },
  {
   "cell_type": "code",
   "execution_count": 33,
   "id": "a859db96",
   "metadata": {},
   "outputs": [],
   "source": [
    "image_data['label'] = image_data['file'].apply(lambda x :x.split('.')[0])"
   ]
  },
  {
   "cell_type": "code",
   "execution_count": 34,
   "id": "e9990396",
   "metadata": {},
   "outputs": [
    {
     "data": {
      "text/html": [
       "<div>\n",
       "<style scoped>\n",
       "    .dataframe tbody tr th:only-of-type {\n",
       "        vertical-align: middle;\n",
       "    }\n",
       "\n",
       "    .dataframe tbody tr th {\n",
       "        vertical-align: top;\n",
       "    }\n",
       "\n",
       "    .dataframe thead th {\n",
       "        text-align: right;\n",
       "    }\n",
       "</style>\n",
       "<table border=\"1\" class=\"dataframe\">\n",
       "  <thead>\n",
       "    <tr style=\"text-align: right;\">\n",
       "      <th></th>\n",
       "      <th>file</th>\n",
       "      <th>img</th>\n",
       "      <th>label</th>\n",
       "    </tr>\n",
       "  </thead>\n",
       "  <tbody>\n",
       "    <tr>\n",
       "      <th>0</th>\n",
       "      <td>cat.0.jpg</td>\n",
       "      <td>[[[0.3429534313725487, 0.6449142156862742, 0.7...</td>\n",
       "      <td>cat</td>\n",
       "    </tr>\n",
       "    <tr>\n",
       "      <th>1</th>\n",
       "      <td>cat.1.jpg</td>\n",
       "      <td>[[[0.1568627450980392, 0.17022058823529368, 0....</td>\n",
       "      <td>cat</td>\n",
       "    </tr>\n",
       "    <tr>\n",
       "      <th>2</th>\n",
       "      <td>cat.10.jpg</td>\n",
       "      <td>[[[0.16253578335630964, 0.12828075932521243, 0...</td>\n",
       "      <td>cat</td>\n",
       "    </tr>\n",
       "    <tr>\n",
       "      <th>3</th>\n",
       "      <td>cat.100.jpg</td>\n",
       "      <td>[[[0.8492187499999995, 0.8688265931372545, 0.8...</td>\n",
       "      <td>cat</td>\n",
       "    </tr>\n",
       "    <tr>\n",
       "      <th>4</th>\n",
       "      <td>cat.1000.jpg</td>\n",
       "      <td>[[[0.29285852768841913, 0.43795656690410545, 0...</td>\n",
       "      <td>cat</td>\n",
       "    </tr>\n",
       "  </tbody>\n",
       "</table>\n",
       "</div>"
      ],
      "text/plain": [
       "           file                                                img label\n",
       "0     cat.0.jpg  [[[0.3429534313725487, 0.6449142156862742, 0.7...   cat\n",
       "1     cat.1.jpg  [[[0.1568627450980392, 0.17022058823529368, 0....   cat\n",
       "2    cat.10.jpg  [[[0.16253578335630964, 0.12828075932521243, 0...   cat\n",
       "3   cat.100.jpg  [[[0.8492187499999995, 0.8688265931372545, 0.8...   cat\n",
       "4  cat.1000.jpg  [[[0.29285852768841913, 0.43795656690410545, 0...   cat"
      ]
     },
     "execution_count": 34,
     "metadata": {},
     "output_type": "execute_result"
    }
   ],
   "source": [
    "image_data.head()"
   ]
  },
  {
   "cell_type": "code",
   "execution_count": 35,
   "id": "10b91f5e",
   "metadata": {},
   "outputs": [],
   "source": [
    "image_data['label'] = image_data['label'].where(image_data['label'] == 'cat',1)\n",
    "image_data['label'] = image_data['label'].where(image_data['label'] == 1,0)"
   ]
  },
  {
   "cell_type": "code",
   "execution_count": 36,
   "id": "56aa10f3",
   "metadata": {},
   "outputs": [],
   "source": [
    "images = list(image_data['img'])"
   ]
  },
  {
   "cell_type": "code",
   "execution_count": 40,
   "id": "7c008f90",
   "metadata": {},
   "outputs": [],
   "source": [
    "image_data.to_csv('train_data.csv', index = False)"
   ]
  },
  {
   "cell_type": "code",
   "execution_count": 70,
   "id": "240732aa",
   "metadata": {},
   "outputs": [],
   "source": [
    "image_data = pd.read_csv('train_data.csv')"
   ]
  },
  {
   "cell_type": "code",
   "execution_count": 71,
   "id": "d9178b66",
   "metadata": {},
   "outputs": [
    {
     "data": {
      "text/html": [
       "<div>\n",
       "<style scoped>\n",
       "    .dataframe tbody tr th:only-of-type {\n",
       "        vertical-align: middle;\n",
       "    }\n",
       "\n",
       "    .dataframe tbody tr th {\n",
       "        vertical-align: top;\n",
       "    }\n",
       "\n",
       "    .dataframe thead th {\n",
       "        text-align: right;\n",
       "    }\n",
       "</style>\n",
       "<table border=\"1\" class=\"dataframe\">\n",
       "  <thead>\n",
       "    <tr style=\"text-align: right;\">\n",
       "      <th></th>\n",
       "      <th>file</th>\n",
       "      <th>img</th>\n",
       "      <th>label</th>\n",
       "    </tr>\n",
       "  </thead>\n",
       "  <tbody>\n",
       "    <tr>\n",
       "      <th>0</th>\n",
       "      <td>cat.0.jpg</td>\n",
       "      <td>[[[0.34295343 0.64491422 0.79785539]\\n  [0.362...</td>\n",
       "      <td>0</td>\n",
       "    </tr>\n",
       "    <tr>\n",
       "      <th>1</th>\n",
       "      <td>cat.1.jpg</td>\n",
       "      <td>[[[0.15686275 0.17022059 0.15294118]\\n  [0.168...</td>\n",
       "      <td>0</td>\n",
       "    </tr>\n",
       "    <tr>\n",
       "      <th>2</th>\n",
       "      <td>cat.10.jpg</td>\n",
       "      <td>[[[0.16253578 0.12828076 0.11083284]\\n  [0.133...</td>\n",
       "      <td>0</td>\n",
       "    </tr>\n",
       "    <tr>\n",
       "      <th>3</th>\n",
       "      <td>cat.100.jpg</td>\n",
       "      <td>[[[0.84921875 0.86882659 0.86490502]\\n  [0.853...</td>\n",
       "      <td>0</td>\n",
       "    </tr>\n",
       "    <tr>\n",
       "      <th>4</th>\n",
       "      <td>cat.1000.jpg</td>\n",
       "      <td>[[[0.29285853 0.43795657 0.54776049]\\n  [0.297...</td>\n",
       "      <td>0</td>\n",
       "    </tr>\n",
       "  </tbody>\n",
       "</table>\n",
       "</div>"
      ],
      "text/plain": [
       "           file                                                img  label\n",
       "0     cat.0.jpg  [[[0.34295343 0.64491422 0.79785539]\\n  [0.362...      0\n",
       "1     cat.1.jpg  [[[0.15686275 0.17022059 0.15294118]\\n  [0.168...      0\n",
       "2    cat.10.jpg  [[[0.16253578 0.12828076 0.11083284]\\n  [0.133...      0\n",
       "3   cat.100.jpg  [[[0.84921875 0.86882659 0.86490502]\\n  [0.853...      0\n",
       "4  cat.1000.jpg  [[[0.29285853 0.43795657 0.54776049]\\n  [0.297...      0"
      ]
     },
     "execution_count": 71,
     "metadata": {},
     "output_type": "execute_result"
    }
   ],
   "source": [
    "image_data.head()"
   ]
  },
  {
   "cell_type": "code",
   "execution_count": 43,
   "id": "9883bcbd",
   "metadata": {},
   "outputs": [],
   "source": [
    "#x_train, x_test, y_train, y_test = train_test_split(final['img'], final['label'], test_size=0.2, random_state=1)"
   ]
  },
  {
   "cell_type": "code",
   "execution_count": 44,
   "id": "19276f4a",
   "metadata": {},
   "outputs": [],
   "source": [
    "#train_df = final.iloc[0:20000, :]\n",
    "#test_df = final.iloc[20000:, :]"
   ]
  },
  {
   "cell_type": "code",
   "execution_count": 72,
   "id": "2f4cf199",
   "metadata": {},
   "outputs": [],
   "source": [
    "x_train = np.array(np.array(images) * 255, dtype = np.uint8)\n",
    "y_train = image_data['label'].to_numpy()\n",
    "\n",
    "#x_test = np.array(np.array(images[20000:]) * 255, dtype = np.uint8)\n",
    "#y_test = test_df['label'].to_numpy()"
   ]
  },
  {
   "cell_type": "code",
   "execution_count": 73,
   "id": "8ebcc384",
   "metadata": {},
   "outputs": [],
   "source": [
    "BATCH_SIZE = 2000\n",
    "BUFFER_SIZE = BATCH_SIZE * 2\n",
    "AUTO = tf.data.AUTOTUNE\n",
    "train_ds = tf.data.Dataset.from_tensor_slices((x_train, y_train.astype(float)))\n",
    "train_ds = train_ds.shuffle(BUFFER_SIZE).batch(BATCH_SIZE).prefetch(AUTO)\n",
    "\n",
    "#test_ds = tf.data.Dataset.from_tensor_slices((x_test, y_test.astype(float)))\n",
    "#test_ds = test_ds.batch(BATCH_SIZE).prefetch(AUTO)"
   ]
  },
  {
   "cell_type": "code",
   "execution_count": 74,
   "id": "3b8741a7",
   "metadata": {},
   "outputs": [],
   "source": [
    "from tensorflow.keras.applications.resnet50 import ResNet50\n",
    "from tensorflow.keras.layers.experimental.preprocessing import RandomRotation, RandomContrast"
   ]
  },
  {
   "cell_type": "code",
   "execution_count": 48,
   "id": "173ef6be",
   "metadata": {},
   "outputs": [
    {
     "data": {
      "text/plain": [
       "'\\ndef get_model():\\n    image_inputs = tf.keras.Input((img_rows, img_cols , 3))\\n    \\n    resnet = ResNet50(include_top=False, pooling=None)\\n    \\n    image_x = resnet(RandomContrast(factor = 0.1)(RandomRotation(factor = 0.15)(image_inputs)))\\n    \\n    image_x = tf.keras.layers.GlobalAveragePooling2D()(image_x)\\n\\n    output = tf.keras.layers.Dense(1)(image_x)\\n    \\n    model = tf.keras.Model(inputs=[image_inputs], outputs=[output])\\n    return model\\n    \\nmodel = get_model()\\n'"
      ]
     },
     "execution_count": 48,
     "metadata": {},
     "output_type": "execute_result"
    }
   ],
   "source": [
    "nb_epoch = 30\n",
    "nb_filters = 5 # the number of filters\n",
    "nb_pool = 2 # window size of pooling\n",
    "nb_conv = 3 # window size of filter\n",
    "img_rows, img_cols = 128, 128\n",
    "nb_classes = 2\n",
    "\n",
    "\"\"\"\n",
    "model = Sequential()\n",
    "model.add(Convolution2D(nb_filters, nb_conv, nb_conv, input_shape=(img_rows, img_cols, 3)))\n",
    "model.add(Activation('relu'))\n",
    "model.add(Convolution2D(nb_filters, nb_conv, nb_conv))\n",
    "model.add(Activation('relu'))\n",
    "model.add(MaxPooling2D(pool_size=(nb_pool, nb_pool)))\n",
    "model.add(Flatten())\n",
    "model.add(Dense(128))\n",
    "model.add(Activation('relu'))\n",
    "model.add(Dense(nb_classes))\n",
    "model.add(Activation(\"sigmoid\"))\n",
    "\"\"\"\n",
    "\n",
    "\n",
    "model = tf.keras.models.Sequential([\n",
    "\n",
    "# This is the first convolution\n",
    "tf.keras.layers.Conv2D(16, (3,3), activation='relu', input_shape=(img_rows, img_cols, 3)),\n",
    "tf.keras.layers.MaxPooling2D(2,2),\n",
    "# The second convolution\n",
    "tf.keras.layers.Conv2D(32, (3,3), activation='relu'),\n",
    "tf.keras.layers.MaxPooling2D(2,2),\n",
    "# The third convolution\n",
    "tf.keras.layers.Conv2D(64, (3,3), activation='relu'),\n",
    "tf.keras.layers.MaxPooling2D(2,2),\n",
    "\n",
    "    \n",
    "tf.keras.layers.Conv2D(128, (3,3), activation='relu'),\n",
    "tf.keras.layers.MaxPooling2D(2,2),\n",
    "    \n",
    "tf.keras.layers.Conv2D(256, (3,3), activation='relu'),\n",
    "tf.keras.layers.MaxPooling2D(2,2),\n",
    "    \n",
    "# Flatten the results to feed into a DNN\n",
    "tf.keras.layers.Flatten(),\n",
    "# 512 neuron hidden layer\n",
    "tf.keras.layers.Dense(512, activation='relu'),\n",
    "tf.keras.layers.Dense(1, activation='sigmoid')])\n",
    "    \n",
    "\n",
    "    \n",
    "\n",
    "\"\"\"\n",
    "def get_model():\n",
    "    image_inputs = tf.keras.Input((img_rows, img_cols , 3))\n",
    "    \n",
    "    resnet = ResNet50(include_top=False, pooling=None)\n",
    "    \n",
    "    image_x = resnet(RandomContrast(factor = 0.1)(RandomRotation(factor = 0.15)(image_inputs)))\n",
    "    \n",
    "    image_x = tf.keras.layers.GlobalAveragePooling2D()(image_x)\n",
    "\n",
    "    output = tf.keras.layers.Dense(1)(image_x)\n",
    "    \n",
    "    model = tf.keras.Model(inputs=[image_inputs], outputs=[output])\n",
    "    return model\n",
    "    \n",
    "model = get_model()\n",
    "\"\"\""
   ]
  },
  {
   "cell_type": "code",
   "execution_count": 49,
   "id": "dc7133cd",
   "metadata": {},
   "outputs": [
    {
     "name": "stdout",
     "output_type": "stream",
     "text": [
      "Model: \"sequential_3\"\n",
      "_________________________________________________________________\n",
      " Layer (type)                Output Shape              Param #   \n",
      "=================================================================\n",
      " conv2d_11 (Conv2D)          (None, 126, 126, 16)      448       \n",
      "                                                                 \n",
      " max_pooling2d_11 (MaxPoolin  (None, 63, 63, 16)       0         \n",
      " g2D)                                                            \n",
      "                                                                 \n",
      " conv2d_12 (Conv2D)          (None, 61, 61, 32)        4640      \n",
      "                                                                 \n",
      " max_pooling2d_12 (MaxPoolin  (None, 30, 30, 32)       0         \n",
      " g2D)                                                            \n",
      "                                                                 \n",
      " conv2d_13 (Conv2D)          (None, 28, 28, 64)        18496     \n",
      "                                                                 \n",
      " max_pooling2d_13 (MaxPoolin  (None, 14, 14, 64)       0         \n",
      " g2D)                                                            \n",
      "                                                                 \n",
      " conv2d_14 (Conv2D)          (None, 12, 12, 128)       73856     \n",
      "                                                                 \n",
      " max_pooling2d_14 (MaxPoolin  (None, 6, 6, 128)        0         \n",
      " g2D)                                                            \n",
      "                                                                 \n",
      " conv2d_15 (Conv2D)          (None, 4, 4, 256)         295168    \n",
      "                                                                 \n",
      " max_pooling2d_15 (MaxPoolin  (None, 2, 2, 256)        0         \n",
      " g2D)                                                            \n",
      "                                                                 \n",
      " flatten_3 (Flatten)         (None, 1024)              0         \n",
      "                                                                 \n",
      " dense_7 (Dense)             (None, 512)               524800    \n",
      "                                                                 \n",
      " dense_8 (Dense)             (None, 1)                 513       \n",
      "                                                                 \n",
      "=================================================================\n",
      "Total params: 917,921\n",
      "Trainable params: 917,921\n",
      "Non-trainable params: 0\n",
      "_________________________________________________________________\n"
     ]
    }
   ],
   "source": [
    "model.summary()"
   ]
  },
  {
   "cell_type": "code",
   "execution_count": 50,
   "id": "a1c26584",
   "metadata": {
    "scrolled": true
   },
   "outputs": [
    {
     "name": "stdout",
     "output_type": "stream",
     "text": [
      "Epoch 1/10\n",
      "13/13 [==============================] - 890s 68s/step - loss: 30.6942 - accuracy: 0.6034\n",
      "Epoch 2/10\n",
      "13/13 [==============================] - 851s 65s/step - loss: 1.1075 - accuracy: 0.3976\n",
      "Epoch 3/10\n",
      "13/13 [==============================] - 861s 66s/step - loss: 1.4908 - accuracy: 0.3502\n",
      "Epoch 4/10\n",
      "13/13 [==============================] - 879s 68s/step - loss: 0.7027 - accuracy: 0.3784\n",
      "Epoch 5/10\n",
      "13/13 [==============================] - 895s 69s/step - loss: 0.7075 - accuracy: 0.2908\n",
      "Epoch 6/10\n",
      "13/13 [==============================] - 855s 65s/step - loss: 0.6954 - accuracy: 0.4300\n",
      "Epoch 7/10\n",
      "13/13 [==============================] - 835s 64s/step - loss: 0.6937 - accuracy: 0.4810\n",
      "Epoch 8/10\n",
      "13/13 [==============================] - 1089s 85s/step - loss: 0.6936 - accuracy: 0.4964\n",
      "Epoch 9/10\n",
      "13/13 [==============================] - 3053s 234s/step - loss: 0.6935 - accuracy: 0.4997\n",
      "Epoch 10/10\n",
      "13/13 [==============================] - 3036s 233s/step - loss: 0.6936 - accuracy: 0.5003\n"
     ]
    },
    {
     "data": {
      "text/plain": [
       "<keras.callbacks.History at 0x13c827085b0>"
      ]
     },
     "execution_count": 50,
     "metadata": {},
     "output_type": "execute_result"
    }
   ],
   "source": [
    "model.compile(loss='binary_crossentropy', optimizer=\"adam\", metrics=['accuracy'])\n",
    "model.fit(train_ds, epochs=10, batch_size=BATCH_SIZE, verbose=1)"
   ]
  },
  {
   "cell_type": "code",
   "execution_count": null,
   "id": "c18e0bd9",
   "metadata": {},
   "outputs": [],
   "source": []
  },
  {
   "cell_type": "code",
   "execution_count": 51,
   "id": "8bd6a92e",
   "metadata": {},
   "outputs": [],
   "source": [
    "FILE_PATH = 'C://Users//yashb//Documents//Predictive//HW4//test//test'\n",
    "\n",
    "ids = []\n",
    "test_images = []\n",
    "mapping = dict()\n",
    "count = 0 \n",
    "n = 100\n",
    "# parse through all files in the directory\n",
    "for dirpath, dirs, files in os.walk(FILE_PATH):\n",
    "    for filename in files:\n",
    "        #if count == n:\n",
    "            #break\n",
    "        img_path = dirpath+'/'+filename\n",
    "        img = cv2.imread(img_path)\n",
    "        img = resize(img, (128, 128))\n",
    "        #ids.append(filename.split('.')[0])\n",
    "        #test_mappings[] = img\n",
    "        #test_images.append(img)\n",
    "        mapping[filename.split('.')[0]] = img\n",
    "        count += 1"
   ]
  },
  {
   "cell_type": "code",
   "execution_count": 64,
   "id": "6ac83d80",
   "metadata": {},
   "outputs": [
    {
     "data": {
      "text/html": [
       "<div>\n",
       "<style scoped>\n",
       "    .dataframe tbody tr th:only-of-type {\n",
       "        vertical-align: middle;\n",
       "    }\n",
       "\n",
       "    .dataframe tbody tr th {\n",
       "        vertical-align: top;\n",
       "    }\n",
       "\n",
       "    .dataframe thead th {\n",
       "        text-align: right;\n",
       "    }\n",
       "</style>\n",
       "<table border=\"1\" class=\"dataframe\">\n",
       "  <thead>\n",
       "    <tr style=\"text-align: right;\">\n",
       "      <th></th>\n",
       "      <th>id</th>\n",
       "      <th>img</th>\n",
       "    </tr>\n",
       "  </thead>\n",
       "  <tbody>\n",
       "    <tr>\n",
       "      <th>0</th>\n",
       "      <td>1</td>\n",
       "      <td>[[[0.3803921568627451, 0.2567095588235295, 0.1...</td>\n",
       "    </tr>\n",
       "    <tr>\n",
       "      <th>1</th>\n",
       "      <td>10</td>\n",
       "      <td>[[[0.0196078431372549, 0.027450980392156862, 0...</td>\n",
       "    </tr>\n",
       "    <tr>\n",
       "      <th>2</th>\n",
       "      <td>100</td>\n",
       "      <td>[[[0.00784313725490196, 0.00784313725490196, 0...</td>\n",
       "    </tr>\n",
       "    <tr>\n",
       "      <th>3</th>\n",
       "      <td>1000</td>\n",
       "      <td>[[[0.4701286764705901, 0.6905464920343154, 0.6...</td>\n",
       "    </tr>\n",
       "    <tr>\n",
       "      <th>4</th>\n",
       "      <td>10000</td>\n",
       "      <td>[[[0.4489123774509831, 0.5104669907513809, 0.5...</td>\n",
       "    </tr>\n",
       "    <tr>\n",
       "      <th>...</th>\n",
       "      <td>...</td>\n",
       "      <td>...</td>\n",
       "    </tr>\n",
       "    <tr>\n",
       "      <th>12495</th>\n",
       "      <td>9995</td>\n",
       "      <td>[[[0.09411764705882353, 0.14509803921568626, 0...</td>\n",
       "    </tr>\n",
       "    <tr>\n",
       "      <th>12496</th>\n",
       "      <td>9996</td>\n",
       "      <td>[[[0.34802485447304105, 0.6505064721201008, 0....</td>\n",
       "    </tr>\n",
       "    <tr>\n",
       "      <th>12497</th>\n",
       "      <td>9997</td>\n",
       "      <td>[[[0.4908404181985294, 0.8761029411764709, 0.8...</td>\n",
       "    </tr>\n",
       "    <tr>\n",
       "      <th>12498</th>\n",
       "      <td>9998</td>\n",
       "      <td>[[[0.3682981004901964, 0.26633731617647094, 0....</td>\n",
       "    </tr>\n",
       "    <tr>\n",
       "      <th>12499</th>\n",
       "      <td>9999</td>\n",
       "      <td>[[[0.3289139093137256, 0.29183517156862737, 0....</td>\n",
       "    </tr>\n",
       "  </tbody>\n",
       "</table>\n",
       "<p>12500 rows × 2 columns</p>\n",
       "</div>"
      ],
      "text/plain": [
       "          id                                                img\n",
       "0          1  [[[0.3803921568627451, 0.2567095588235295, 0.1...\n",
       "1         10  [[[0.0196078431372549, 0.027450980392156862, 0...\n",
       "2        100  [[[0.00784313725490196, 0.00784313725490196, 0...\n",
       "3       1000  [[[0.4701286764705901, 0.6905464920343154, 0.6...\n",
       "4      10000  [[[0.4489123774509831, 0.5104669907513809, 0.5...\n",
       "...      ...                                                ...\n",
       "12495   9995  [[[0.09411764705882353, 0.14509803921568626, 0...\n",
       "12496   9996  [[[0.34802485447304105, 0.6505064721201008, 0....\n",
       "12497   9997  [[[0.4908404181985294, 0.8761029411764709, 0.8...\n",
       "12498   9998  [[[0.3682981004901964, 0.26633731617647094, 0....\n",
       "12499   9999  [[[0.3289139093137256, 0.29183517156862737, 0....\n",
       "\n",
       "[12500 rows x 2 columns]"
      ]
     },
     "execution_count": 64,
     "metadata": {},
     "output_type": "execute_result"
    }
   ],
   "source": [
    "#test_data = pd.DataFrame(columns = ['id'])\n",
    "#test_data['id'] = ids\n",
    "#test_data['id'] = list(test_mappings.keys())\n",
    "#test_data['img'] = list(test_mappings.values())\n",
    "test_data = pd.DataFrame(mapping.items(), columns = ['id','img'])\n",
    "test_data"
   ]
  },
  {
   "cell_type": "code",
   "execution_count": null,
   "id": "c0fe8619",
   "metadata": {},
   "outputs": [],
   "source": []
  },
  {
   "cell_type": "code",
   "execution_count": 65,
   "id": "6d9e36ff",
   "metadata": {},
   "outputs": [],
   "source": [
    "test_images = list(test_data['img'])"
   ]
  },
  {
   "cell_type": "code",
   "execution_count": 54,
   "id": "fa29af36",
   "metadata": {},
   "outputs": [],
   "source": [
    "test_data.to_csv('test_data.csv')"
   ]
  },
  {
   "cell_type": "code",
   "execution_count": 60,
   "id": "2a8602a1",
   "metadata": {},
   "outputs": [],
   "source": [
    "test_data = pd.read_csv('test_data.csv')"
   ]
  },
  {
   "cell_type": "code",
   "execution_count": 66,
   "id": "32b5c239",
   "metadata": {},
   "outputs": [
    {
     "data": {
      "text/html": [
       "<div>\n",
       "<style scoped>\n",
       "    .dataframe tbody tr th:only-of-type {\n",
       "        vertical-align: middle;\n",
       "    }\n",
       "\n",
       "    .dataframe tbody tr th {\n",
       "        vertical-align: top;\n",
       "    }\n",
       "\n",
       "    .dataframe thead th {\n",
       "        text-align: right;\n",
       "    }\n",
       "</style>\n",
       "<table border=\"1\" class=\"dataframe\">\n",
       "  <thead>\n",
       "    <tr style=\"text-align: right;\">\n",
       "      <th></th>\n",
       "      <th>id</th>\n",
       "      <th>img</th>\n",
       "    </tr>\n",
       "  </thead>\n",
       "  <tbody>\n",
       "    <tr>\n",
       "      <th>0</th>\n",
       "      <td>1</td>\n",
       "      <td>[[[0.3803921568627451, 0.2567095588235295, 0.1...</td>\n",
       "    </tr>\n",
       "    <tr>\n",
       "      <th>1</th>\n",
       "      <td>10</td>\n",
       "      <td>[[[0.0196078431372549, 0.027450980392156862, 0...</td>\n",
       "    </tr>\n",
       "    <tr>\n",
       "      <th>2</th>\n",
       "      <td>100</td>\n",
       "      <td>[[[0.00784313725490196, 0.00784313725490196, 0...</td>\n",
       "    </tr>\n",
       "    <tr>\n",
       "      <th>3</th>\n",
       "      <td>1000</td>\n",
       "      <td>[[[0.4701286764705901, 0.6905464920343154, 0.6...</td>\n",
       "    </tr>\n",
       "    <tr>\n",
       "      <th>4</th>\n",
       "      <td>10000</td>\n",
       "      <td>[[[0.4489123774509831, 0.5104669907513809, 0.5...</td>\n",
       "    </tr>\n",
       "  </tbody>\n",
       "</table>\n",
       "</div>"
      ],
      "text/plain": [
       "      id                                                img\n",
       "0      1  [[[0.3803921568627451, 0.2567095588235295, 0.1...\n",
       "1     10  [[[0.0196078431372549, 0.027450980392156862, 0...\n",
       "2    100  [[[0.00784313725490196, 0.00784313725490196, 0...\n",
       "3   1000  [[[0.4701286764705901, 0.6905464920343154, 0.6...\n",
       "4  10000  [[[0.4489123774509831, 0.5104669907513809, 0.5..."
      ]
     },
     "execution_count": 66,
     "metadata": {},
     "output_type": "execute_result"
    }
   ],
   "source": [
    "test_data.head()"
   ]
  },
  {
   "cell_type": "code",
   "execution_count": 67,
   "id": "d9db38bb",
   "metadata": {},
   "outputs": [],
   "source": [
    "x_test = np.array(np.array(test_images[:]) * 255, dtype = np.uint8)\n",
    "\n",
    "BATCH_SIZE = 2000\n",
    "BUFFER_SIZE = BATCH_SIZE * 2\n",
    "AUTO = tf.data.AUTOTUNE\n",
    "test_ds = tf.data.Dataset.from_tensor_slices((x_test))\n",
    "test_ds = test_ds.shuffle(BUFFER_SIZE).batch(BATCH_SIZE).prefetch(AUTO)"
   ]
  },
  {
   "cell_type": "code",
   "execution_count": 68,
   "id": "24b56bea",
   "metadata": {},
   "outputs": [
    {
     "name": "stdout",
     "output_type": "stream",
     "text": [
      "7/7 [==============================] - 153s 21s/step\n"
     ]
    }
   ],
   "source": [
    "results = model.predict(test_ds)\n",
    "#test_data.astype(int).sort_values('id', inplace = True)\n",
    "test_data['label'] = results\n",
    "#submission['label'] = test_data['label']\n",
    "#submission['label'] = np.where(submission['label'] <= 0.5,0,1)\n",
    "test_data[['id','label']].to_csv(\"submission.csv\", index=False)"
   ]
  },
  {
   "cell_type": "code",
   "execution_count": 69,
   "id": "05d1e715",
   "metadata": {},
   "outputs": [
    {
     "data": {
      "text/html": [
       "<div>\n",
       "<style scoped>\n",
       "    .dataframe tbody tr th:only-of-type {\n",
       "        vertical-align: middle;\n",
       "    }\n",
       "\n",
       "    .dataframe tbody tr th {\n",
       "        vertical-align: top;\n",
       "    }\n",
       "\n",
       "    .dataframe thead th {\n",
       "        text-align: right;\n",
       "    }\n",
       "</style>\n",
       "<table border=\"1\" class=\"dataframe\">\n",
       "  <thead>\n",
       "    <tr style=\"text-align: right;\">\n",
       "      <th></th>\n",
       "      <th>id</th>\n",
       "      <th>img</th>\n",
       "      <th>label</th>\n",
       "    </tr>\n",
       "  </thead>\n",
       "  <tbody>\n",
       "    <tr>\n",
       "      <th>0</th>\n",
       "      <td>1</td>\n",
       "      <td>[[[0.3803921568627451, 0.2567095588235295, 0.1...</td>\n",
       "      <td>0.503796</td>\n",
       "    </tr>\n",
       "    <tr>\n",
       "      <th>1</th>\n",
       "      <td>10</td>\n",
       "      <td>[[[0.0196078431372549, 0.027450980392156862, 0...</td>\n",
       "      <td>0.505010</td>\n",
       "    </tr>\n",
       "    <tr>\n",
       "      <th>2</th>\n",
       "      <td>100</td>\n",
       "      <td>[[[0.00784313725490196, 0.00784313725490196, 0...</td>\n",
       "      <td>0.506908</td>\n",
       "    </tr>\n",
       "    <tr>\n",
       "      <th>3</th>\n",
       "      <td>1000</td>\n",
       "      <td>[[[0.4701286764705901, 0.6905464920343154, 0.6...</td>\n",
       "      <td>0.504607</td>\n",
       "    </tr>\n",
       "    <tr>\n",
       "      <th>4</th>\n",
       "      <td>10000</td>\n",
       "      <td>[[[0.4489123774509831, 0.5104669907513809, 0.5...</td>\n",
       "      <td>0.505159</td>\n",
       "    </tr>\n",
       "  </tbody>\n",
       "</table>\n",
       "</div>"
      ],
      "text/plain": [
       "      id                                                img     label\n",
       "0      1  [[[0.3803921568627451, 0.2567095588235295, 0.1...  0.503796\n",
       "1     10  [[[0.0196078431372549, 0.027450980392156862, 0...  0.505010\n",
       "2    100  [[[0.00784313725490196, 0.00784313725490196, 0...  0.506908\n",
       "3   1000  [[[0.4701286764705901, 0.6905464920343154, 0.6...  0.504607\n",
       "4  10000  [[[0.4489123774509831, 0.5104669907513809, 0.5...  0.505159"
      ]
     },
     "execution_count": 69,
     "metadata": {},
     "output_type": "execute_result"
    }
   ],
   "source": [
    "test_data.head()"
   ]
  },
  {
   "cell_type": "code",
   "execution_count": null,
   "id": "e27398df",
   "metadata": {},
   "outputs": [],
   "source": []
  }
 ],
 "metadata": {
  "kernelspec": {
   "display_name": "Python 3 (ipykernel)",
   "language": "python",
   "name": "python3"
  },
  "language_info": {
   "codemirror_mode": {
    "name": "ipython",
    "version": 3
   },
   "file_extension": ".py",
   "mimetype": "text/x-python",
   "name": "python",
   "nbconvert_exporter": "python",
   "pygments_lexer": "ipython3",
   "version": "3.9.7"
  }
 },
 "nbformat": 4,
 "nbformat_minor": 5
}
